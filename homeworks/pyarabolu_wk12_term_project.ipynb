{
 "cells": [
  {
   "cell_type": "code",
   "execution_count": null,
   "metadata": {},
   "outputs": [],
   "source": [
    "#%%\n",
    "\"\"\"\n",
    "Created by: Phaniraj Reddy Yarabolu\n",
    "Date: 02222020\n",
    "Bellevue University\n",
    "DSC 530 - Data Exploration And Analysis\n",
    "Winter 2019 Week 12\n",
    "\n",
    "Term Project: \n",
    "Import MA_Public_Schools_2017.csv \n",
    "\n",
    "The dataset lists the following questions to be answered from the study.\n",
    " - What contributes to differences in schools’ outcomes?\n",
    " - Are there meaningful regional differences within MA?\n",
    " - Which schools do well despite limited resources?\n",
    "\n",
    "We are also interested in finding the factors contributing to the student’s success in terms of high school as well as college graduation and the drop outs rates. We propose to find the relationships between (and among the variables as a multi-variable study):\n",
    "\n",
    " - Aggregate MCAS scores and graduation/ dropout rates\n",
    " - MCAS 3rd grade scores and graduation/ dropout rates\n",
    " - MCAS 8th grade scores and graduation/ dropout rates\n",
    " - MCAS 10th grade scores and graduation/ dropout rates\n",
    " - MCAS 3rd grade scores and the respective SAT scores\n",
    " - MCAS 8th grade scores and the respective SAT scores\n",
    " - MCAS 10th grade scores and the respective SAT scores\n",
    " - MCAS scores and the respective SAT and AP scores\n",
    " - Per student expenditure levels and student graduation rates\n",
    " - Per student expenditure and MCAS, SAT and AP scores\n",
    " - Economically disadvantaged versus student graduation rates\n",
    " - Race and graduation/ dropout rates\n",
    " - First Language Not English and graduation/ dropout rate\n",
    "\n",
    "\n",
    "\"\"\""
   ]
  },
  {
   "cell_type": "code",
   "execution_count": 1,
   "metadata": {},
   "outputs": [],
   "source": [
    "from __future__ import print_function\n",
    "\n",
    "%matplotlib inline\n",
    "#%matplotlib notebook\n",
    "\n",
    "import pandas as pd\n",
    "import numpy as np\n",
    "\n",
    "import thinkplot\n",
    "import thinkstats2\n",
    "import survival\n",
    "import hypothesis\n",
    "\n",
    "import warnings\n",
    "warnings.filterwarnings('ignore', category=FutureWarning)\n",
    "\n",
    "import random\n",
    "import regression\n",
    "import timeseries\n",
    "\n",
    "import statsmodels.formula.api as smf\n",
    "import statsmodels.tsa.stattools as smtsa\n",
    "import matplotlib.pyplot as pyplot"
   ]
  },
  {
   "cell_type": "code",
   "execution_count": 2,
   "metadata": {},
   "outputs": [],
   "source": [
    "# Import MA Public schools 2017 data\n",
    "ma_psd = pd.read_csv(\"MA_Public_Schools_2017.csv\")\n",
    "\n",
    "# Import MA Public schools 2017 data dictionary\n",
    "ma_psdd = pd.read_csv(\"MA_Public_Schools_datadict.csv\")\n"
   ]
  },
  {
   "cell_type": "code",
   "execution_count": 3,
   "metadata": {},
   "outputs": [
    {
     "name": "stdout",
     "output_type": "stream",
     "text": [
      "   School Code                     School Name    School Type   Function  \\\n",
      "0        10505                   Abington High  Public School  Principal   \n",
      "1        10003  Beaver Brook Elementary School  Public School  Principal   \n",
      "2        10002        Center Elementary School  Public School  Principal   \n",
      "3        10405            Frolio Middle School  Public School  Principal   \n",
      "4        10015     Woodsdale Elementary School  Public School  Principal   \n",
      "\n",
      "           Contact Name            Address 1 Address 2      Town State   Zip  \\\n",
      "0  Teresa Sullivan-Cruz   201 Gliniewicz Way       NaN  Abington    MA  2351   \n",
      "1       Catherine Zinni  1 Ralph Hamlin Lane       NaN  Abington    MA  2351   \n",
      "2        Lora Monachino   201 Gliniewicz Way       NaN  Abington    MA  2351   \n",
      "3    Matthew MacCurtain   201 Gliniewicz Way       NaN  Abington    MA  2351   \n",
      "4        Jonathan Hawes  128 Chestnut Street       NaN  Abington    MA  2351   \n",
      "\n",
      "   ... MCAS_10thGrade_English_Incl. in SGP(#)  \\\n",
      "0  ...                                  111.0   \n",
      "1  ...                                    NaN   \n",
      "2  ...                                    NaN   \n",
      "3  ...                                    NaN   \n",
      "4  ...                                    NaN   \n",
      "\n",
      "  Accountability and Assistance Level  \\\n",
      "0                             Level 1   \n",
      "1                             Level 3   \n",
      "2                   Insufficient data   \n",
      "3                             Level 2   \n",
      "4                             Level 2   \n",
      "\n",
      "  Accountability and Assistance Description  \\\n",
      "0               Meeting gap narrowing goals   \n",
      "1  Among lowest performing 20% of subgroups   \n",
      "2                                       NaN   \n",
      "3           Not meeting gap narrowing goals   \n",
      "4           Not meeting gap narrowing goals   \n",
      "\n",
      "  School Accountability Percentile (1-99)  \\\n",
      "0                                    42.0   \n",
      "1                                    34.0   \n",
      "2                                     NaN   \n",
      "3                                    40.0   \n",
      "4                                    52.0   \n",
      "\n",
      "   Progress and Performance Index (PPI) - All Students  \\\n",
      "0                                               76.0     \n",
      "1                                               69.0     \n",
      "2                                                NaN     \n",
      "3                                               63.0     \n",
      "4                                               65.0     \n",
      "\n",
      "   Progress and Performance Index (PPI) - High Needs Students  \\\n",
      "0                                               75.0            \n",
      "1                                               73.0            \n",
      "2                                                NaN            \n",
      "3                                               64.0            \n",
      "4                                               67.0            \n",
      "\n",
      "   District_Accountability and Assistance Level  \\\n",
      "0                                       Level 3   \n",
      "1                                       Level 3   \n",
      "2                                       Level 3   \n",
      "3                                       Level 3   \n",
      "4                                       Level 3   \n",
      "\n",
      "   District_Accountability and Assistance Description  \\\n",
      "0  One or more schools in the district classified...    \n",
      "1  One or more schools in the district classified...    \n",
      "2  One or more schools in the district classified...    \n",
      "3  One or more schools in the district classified...    \n",
      "4  One or more schools in the district classified...    \n",
      "\n",
      "   District_Progress and Performance Index (PPI) - All Students  \\\n",
      "0                                               63.0              \n",
      "1                                               63.0              \n",
      "2                                               63.0              \n",
      "3                                               63.0              \n",
      "4                                               63.0              \n",
      "\n",
      "   District_Progress and Performance Index (PPI) - High Needs Students  \n",
      "0                                               60.0                    \n",
      "1                                               60.0                    \n",
      "2                                               60.0                    \n",
      "3                                               60.0                    \n",
      "4                                               60.0                    \n",
      "\n",
      "[5 rows x 302 columns]\n"
     ]
    }
   ],
   "source": [
    "print(ma_psd.head()) "
   ]
  },
  {
   "cell_type": "code",
   "execution_count": null,
   "metadata": {},
   "outputs": [],
   "source": [
    "\"\"\"\n",
    "It is proposed to update the dataset with the following five derived variables\n",
    "SAT_Score ( sum of Average SAT_Reading, Average SAT_Writing and \n",
    "Average SAT_Math)\n",
    "Low_SAT – SAT_Score below 1500\n",
    "MC_Apass (Number of students who passed both Math and English, MCAS_10thGrade_Math_P+A and MCAS_10thGrade_ English _P+A)\n",
    "MC_WF – (Number of students who failed or withdrawn either Math or English, MCAS_10thGrade_Math_ W/F # or MCAS_10thGrade_ English _ W/F # )\n",
    "\n",
    "\"\"\""
   ]
  },
  {
   "cell_type": "code",
   "execution_count": null,
   "metadata": {},
   "outputs": [],
   "source": [
    "\"\"\"\n",
    "It is proposed to select 10th grade as the basis of study. Accordingly, the following variables are proposed to be \n",
    "included in the exploratory data analysis\n",
    "10_Enrollment  - Total number of students enrolled in 10th grade\n",
    "% Graduated - Graduation Rates\n",
    "MC_Apass (Derived Variable)\n",
    "MC_WF (Derived Variable, boolean)\n",
    "SAT_Score ( sum of Average SAT_Reading, Average SAT_Writing and \n",
    "Average SAT_Math)\n",
    "Low_SAT ( Boolean, used for logistic regression)\n",
    "Race (Nominal variable)\n",
    "Economically disadvantaged (Boolean)\n",
    "\n",
    "\"\"\""
   ]
  },
  {
   "cell_type": "code",
   "execution_count": 4,
   "metadata": {},
   "outputs": [
    {
     "data": {
      "text/plain": [
       "''"
      ]
     },
     "execution_count": 4,
     "metadata": {},
     "output_type": "execute_result"
    }
   ],
   "source": [
    "\"\"\"\n",
    "Create Histograms for (Race, Economically disadvantaged):\n",
    "1)  % Graduated - Graduation Rates\n",
    "2) MC_Apass (Derived numeric Variable)\n",
    "2) MC_WF (Derived Variable, Boolean used for logistic regression)\n",
    "3) SAT_Score ( sum of Average SAT_Reading, Average SAT_Writing and \n",
    "4) Average SAT_Math, numeric variable)\n",
    "5) Low_SAT ( Boolean, used for logistic regression)\n",
    "\"\"\""
   ]
  },
  {
   "cell_type": "code",
   "execution_count": null,
   "metadata": {},
   "outputs": [],
   "source": [
    "\"\"\"\n",
    "Calculate mean, mode, spread and tails for the dependent variables\n",
    "\n",
    "\"\"\""
   ]
  },
  {
   "cell_type": "code",
   "execution_count": null,
   "metadata": {},
   "outputs": [],
   "source": [
    "\"\"\"\n",
    "Perform PMF studies for two scenarios for Race Versus graduation rate and Economic status vs graduation rate\n",
    "\"\"\""
   ]
  },
  {
   "cell_type": "code",
   "execution_count": 5,
   "metadata": {},
   "outputs": [
    {
     "data": {
      "text/plain": [
       "''"
      ]
     },
     "execution_count": 5,
     "metadata": {},
     "output_type": "execute_result"
    }
   ],
   "source": [
    "\"\"\"\n",
    "Create CDF for SAT Scores Vs percentage of students\n",
    "\"\"\""
   ]
  },
  {
   "cell_type": "code",
   "execution_count": null,
   "metadata": {},
   "outputs": [],
   "source": [
    "\"\"\"\n",
    "Plot SAT score analytical distribution and \n",
    "\"\"\""
   ]
  },
  {
   "cell_type": "code",
   "execution_count": null,
   "metadata": {},
   "outputs": [],
   "source": [
    "\"\"\"\n",
    "Create two scatter plots comparing SAT Score Vesue Race and SAT Score versus economic status\n",
    "\"\"\""
   ]
  },
  {
   "cell_type": "code",
   "execution_count": null,
   "metadata": {},
   "outputs": [],
   "source": [
    "\"\"\"\n",
    "Evaluate the data using the multi variable regression model based on the following dependent and influencing variables\n",
    "Graduation% Versus Race, Economic Status, and 10th grade MCAS scores \n",
    "\n",
    "\"\"\""
   ]
  },
  {
   "cell_type": "code",
   "execution_count": null,
   "metadata": {},
   "outputs": [],
   "source": [
    "\"\"\"\n",
    "Evaluate the data using the logistic regression model based on the following dependent and influencing variables\n",
    "Low_SAT (Boolean) versus Race, Economic Status, and 10th grade MCAS scores\n",
    "\n",
    "\"\"\""
   ]
  },
  {
   "cell_type": "code",
   "execution_count": null,
   "metadata": {},
   "outputs": [],
   "source": [
    "\"\"\"\n",
    "Evaluate the data using the logistic regression model based on the following dependent and influencing variables\n",
    "MC_WF (Boolean) versus Race, Economic Status \n",
    "\"\"\""
   ]
  },
  {
   "cell_type": "code",
   "execution_count": null,
   "metadata": {},
   "outputs": [],
   "source": [
    "\"\"\"\n",
    "MC_WF (Boolean) versus Race, Economic Status \n",
    "\"\"\""
   ]
  },
  {
   "cell_type": "code",
   "execution_count": null,
   "metadata": {},
   "outputs": [],
   "source": [
    "\"\"\"\n",
    "Conclusions\n",
    "\"\"\""
   ]
  },
  {
   "cell_type": "code",
   "execution_count": null,
   "metadata": {},
   "outputs": [],
   "source": [
    "\"\"\"\n",
    "Scope for further study\n",
    "\"\"\""
   ]
  },
  {
   "cell_type": "code",
   "execution_count": null,
   "metadata": {},
   "outputs": [],
   "source": [
    "\"\"\"\n",
    "References:\n",
    "\n",
    "Downey, A. B. (2014). Think stats: exploratory data analysis. \" O'Reilly Media, Inc.\".\n",
    "http://www.doe.mass.edu\n",
    "Kaggle.com data set: (2017). Massachusetts Public Schools Data\n",
    "\n",
    "\"\"\""
   ]
  }
 ],
 "metadata": {
  "kernelspec": {
   "display_name": "Python 3",
   "language": "python",
   "name": "python3"
  },
  "language_info": {
   "codemirror_mode": {
    "name": "ipython",
    "version": 3
   },
   "file_extension": ".py",
   "mimetype": "text/x-python",
   "name": "python",
   "nbconvert_exporter": "python",
   "pygments_lexer": "ipython3",
   "version": "3.7.4"
  }
 },
 "nbformat": 4,
 "nbformat_minor": 2
}
